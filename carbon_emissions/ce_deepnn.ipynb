{
 "cells": [
  {
   "cell_type": "code",
   "execution_count": 1,
   "metadata": {
    "collapsed": true
   },
   "outputs": [],
   "source": [
    "import numpy as np\n",
    "import pandas as pd\n",
    "import matplotlib.pyplot as plt\n",
    "import tensorflow as tf\n",
    "from sklearn import preprocessing\n",
    "from sklearn.model_selection import train_test_split\n",
    "from tensorflow.contrib.keras import models\n",
    "from tensorflow.contrib.keras import layers\n",
    "from tensorflow.contrib.keras import regularizers\n",
    "import time"
   ]
  },
  {
   "cell_type": "code",
   "execution_count": 2,
   "metadata": {},
   "outputs": [
    {
     "data": {
      "text/html": [
       "<div>\n",
       "<style>\n",
       "    .dataframe thead tr:only-child th {\n",
       "        text-align: right;\n",
       "    }\n",
       "\n",
       "    .dataframe thead th {\n",
       "        text-align: left;\n",
       "    }\n",
       "\n",
       "    .dataframe tbody tr th {\n",
       "        vertical-align: top;\n",
       "    }\n",
       "</style>\n",
       "<table border=\"1\" class=\"dataframe\">\n",
       "  <thead>\n",
       "    <tr style=\"text-align: right;\">\n",
       "      <th></th>\n",
       "      <th>Reported Scope 1 (tCO2e)</th>\n",
       "      <th>Estimated Scope 1 (tCO2e)</th>\n",
       "      <th>Scope 1 quality flag</th>\n",
       "      <th>Reported market-based Scope 2 (tCO2e)</th>\n",
       "      <th>Reported location-based Scope 2 (tCO2e)</th>\n",
       "      <th>Estimated location-based Scope 2 (tCO2e)</th>\n",
       "      <th>Location-based Scope 2 quality flag</th>\n",
       "      <th>amplification.wordsindex</th>\n",
       "      <th>DeAmplification.wordsindex</th>\n",
       "      <th>HE_negativeindex</th>\n",
       "      <th>...</th>\n",
       "      <th>2016vol</th>\n",
       "      <th>2017vol</th>\n",
       "      <th>2018vol</th>\n",
       "      <th>2019vol</th>\n",
       "      <th>VolFactor</th>\n",
       "      <th>Carbon Emission  (tCO2e/mmUSD)</th>\n",
       "      <th>Listed_encoded</th>\n",
       "      <th>HQ Country_encoded</th>\n",
       "      <th>GICS Sector_encoded</th>\n",
       "      <th>Scope 2 figure used for intensity_encoded</th>\n",
       "    </tr>\n",
       "  </thead>\n",
       "  <tbody>\n",
       "    <tr>\n",
       "      <th>0</th>\n",
       "      <td>0.00</td>\n",
       "      <td>1400.0</td>\n",
       "      <td>2.0</td>\n",
       "      <td>0.0</td>\n",
       "      <td>0.0</td>\n",
       "      <td>3000.0</td>\n",
       "      <td>3.0</td>\n",
       "      <td>0</td>\n",
       "      <td>0</td>\n",
       "      <td>0</td>\n",
       "      <td>...</td>\n",
       "      <td>0.023033</td>\n",
       "      <td>0.023079</td>\n",
       "      <td>0.033899</td>\n",
       "      <td>0.021700</td>\n",
       "      <td>0.178446</td>\n",
       "      <td>26.030882</td>\n",
       "      <td>1</td>\n",
       "      <td>0</td>\n",
       "      <td>2</td>\n",
       "      <td>0</td>\n",
       "    </tr>\n",
       "    <tr>\n",
       "      <th>1</th>\n",
       "      <td>933.37</td>\n",
       "      <td>0.0</td>\n",
       "      <td>7.0</td>\n",
       "      <td>0.0</td>\n",
       "      <td>27626.0</td>\n",
       "      <td>0.0</td>\n",
       "      <td>0.0</td>\n",
       "      <td>0</td>\n",
       "      <td>0</td>\n",
       "      <td>0</td>\n",
       "      <td>...</td>\n",
       "      <td>0.000000</td>\n",
       "      <td>0.000000</td>\n",
       "      <td>0.000000</td>\n",
       "      <td>0.000000</td>\n",
       "      <td>0.000000</td>\n",
       "      <td>7.968841</td>\n",
       "      <td>1</td>\n",
       "      <td>0</td>\n",
       "      <td>3</td>\n",
       "      <td>0</td>\n",
       "    </tr>\n",
       "    <tr>\n",
       "      <th>2</th>\n",
       "      <td>0.00</td>\n",
       "      <td>12000000.0</td>\n",
       "      <td>6.0</td>\n",
       "      <td>0.0</td>\n",
       "      <td>0.0</td>\n",
       "      <td>1200000.0</td>\n",
       "      <td>6.0</td>\n",
       "      <td>48</td>\n",
       "      <td>84</td>\n",
       "      <td>165</td>\n",
       "      <td>...</td>\n",
       "      <td>0.024063</td>\n",
       "      <td>0.021263</td>\n",
       "      <td>0.030650</td>\n",
       "      <td>0.029235</td>\n",
       "      <td>0.064662</td>\n",
       "      <td>926.111720</td>\n",
       "      <td>1</td>\n",
       "      <td>0</td>\n",
       "      <td>2</td>\n",
       "      <td>0</td>\n",
       "    </tr>\n",
       "    <tr>\n",
       "      <th>3</th>\n",
       "      <td>119338.00</td>\n",
       "      <td>0.0</td>\n",
       "      <td>7.0</td>\n",
       "      <td>0.0</td>\n",
       "      <td>169447.0</td>\n",
       "      <td>0.0</td>\n",
       "      <td>0.0</td>\n",
       "      <td>0</td>\n",
       "      <td>0</td>\n",
       "      <td>0</td>\n",
       "      <td>...</td>\n",
       "      <td>0.000000</td>\n",
       "      <td>0.000000</td>\n",
       "      <td>0.000000</td>\n",
       "      <td>0.000000</td>\n",
       "      <td>0.000000</td>\n",
       "      <td>59.908367</td>\n",
       "      <td>1</td>\n",
       "      <td>1</td>\n",
       "      <td>5</td>\n",
       "      <td>0</td>\n",
       "    </tr>\n",
       "    <tr>\n",
       "      <th>4</th>\n",
       "      <td>43258798.00</td>\n",
       "      <td>0.0</td>\n",
       "      <td>7.0</td>\n",
       "      <td>526294.7</td>\n",
       "      <td>526700.0</td>\n",
       "      <td>0.0</td>\n",
       "      <td>7.0</td>\n",
       "      <td>0</td>\n",
       "      <td>0</td>\n",
       "      <td>0</td>\n",
       "      <td>...</td>\n",
       "      <td>0.013876</td>\n",
       "      <td>0.012527</td>\n",
       "      <td>0.013894</td>\n",
       "      <td>0.013356</td>\n",
       "      <td>0.492732</td>\n",
       "      <td>5390.042347</td>\n",
       "      <td>1</td>\n",
       "      <td>1</td>\n",
       "      <td>10</td>\n",
       "      <td>1</td>\n",
       "    </tr>\n",
       "  </tbody>\n",
       "</table>\n",
       "<p>5 rows × 54 columns</p>\n",
       "</div>"
      ],
      "text/plain": [
       "   Reported Scope 1 (tCO2e)  Estimated Scope 1 (tCO2e)  Scope 1 quality flag  \\\n",
       "0                      0.00                     1400.0                   2.0   \n",
       "1                    933.37                        0.0                   7.0   \n",
       "2                      0.00                 12000000.0                   6.0   \n",
       "3                 119338.00                        0.0                   7.0   \n",
       "4               43258798.00                        0.0                   7.0   \n",
       "\n",
       "   Reported market-based Scope 2 (tCO2e)  \\\n",
       "0                                    0.0   \n",
       "1                                    0.0   \n",
       "2                                    0.0   \n",
       "3                                    0.0   \n",
       "4                               526294.7   \n",
       "\n",
       "   Reported location-based Scope 2 (tCO2e)  \\\n",
       "0                                      0.0   \n",
       "1                                  27626.0   \n",
       "2                                      0.0   \n",
       "3                                 169447.0   \n",
       "4                                 526700.0   \n",
       "\n",
       "   Estimated location-based Scope 2 (tCO2e)  \\\n",
       "0                                    3000.0   \n",
       "1                                       0.0   \n",
       "2                                 1200000.0   \n",
       "3                                       0.0   \n",
       "4                                       0.0   \n",
       "\n",
       "   Location-based Scope 2 quality flag  amplification.wordsindex  \\\n",
       "0                                  3.0                         0   \n",
       "1                                  0.0                         0   \n",
       "2                                  6.0                        48   \n",
       "3                                  0.0                         0   \n",
       "4                                  7.0                         0   \n",
       "\n",
       "   DeAmplification.wordsindex  HE_negativeindex  \\\n",
       "0                           0                 0   \n",
       "1                           0                 0   \n",
       "2                          84               165   \n",
       "3                           0                 0   \n",
       "4                           0                 0   \n",
       "\n",
       "                     ...                       2016vol   2017vol   2018vol  \\\n",
       "0                    ...                      0.023033  0.023079  0.033899   \n",
       "1                    ...                      0.000000  0.000000  0.000000   \n",
       "2                    ...                      0.024063  0.021263  0.030650   \n",
       "3                    ...                      0.000000  0.000000  0.000000   \n",
       "4                    ...                      0.013876  0.012527  0.013894   \n",
       "\n",
       "    2019vol  VolFactor  Carbon Emission  (tCO2e/mmUSD)  Listed_encoded  \\\n",
       "0  0.021700   0.178446                       26.030882               1   \n",
       "1  0.000000   0.000000                        7.968841               1   \n",
       "2  0.029235   0.064662                      926.111720               1   \n",
       "3  0.000000   0.000000                       59.908367               1   \n",
       "4  0.013356   0.492732                     5390.042347               1   \n",
       "\n",
       "   HQ Country_encoded  GICS Sector_encoded  \\\n",
       "0                   0                    2   \n",
       "1                   0                    3   \n",
       "2                   0                    2   \n",
       "3                   1                    5   \n",
       "4                   1                   10   \n",
       "\n",
       "   Scope 2 figure used for intensity_encoded  \n",
       "0                                          0  \n",
       "1                                          0  \n",
       "2                                          0  \n",
       "3                                          0  \n",
       "4                                          1  \n",
       "\n",
       "[5 rows x 54 columns]"
      ]
     },
     "execution_count": 2,
     "metadata": {},
     "output_type": "execute_result"
    }
   ],
   "source": [
    "df = pd.read_csv('C:/Users/shu_n/Downloads/carbonemissions_cleaned_2.csv')\n",
    "df.head()"
   ]
  },
  {
   "cell_type": "code",
   "execution_count": 4,
   "metadata": {},
   "outputs": [
    {
     "name": "stdout",
     "output_type": "stream",
     "text": [
      "(3920, 53)\n",
      "(3920, 1)\n"
     ]
    }
   ],
   "source": [
    "X = df.drop(['Carbon Emission  (tCO2e/mmUSD)'], axis=1).values\n",
    "Y = df['Carbon Emission  (tCO2e/mmUSD)'].values.reshape(X.shape[0], 1)\n",
    "print(X.shape)\n",
    "print(Y.shape)"
   ]
  },
  {
   "cell_type": "code",
   "execution_count": 5,
   "metadata": {},
   "outputs": [
    {
     "name": "stdout",
     "output_type": "stream",
     "text": [
      "[ 330.77638977]\n",
      "[ 749.59662901]\n"
     ]
    }
   ],
   "source": [
    "# Matrix normalization:\n",
    "def normalize(V):\n",
    "    mean = np.mean(V, axis=0)\n",
    "    stdev = np.std(V, axis=0)\n",
    "    normalized = (V - mean) / stdev\n",
    "    return normalized, mean, stdev\n",
    "\n",
    "def inverse_norm(V, mean, stdev):\n",
    "    return V * stdev + mean\n",
    "\n",
    "X_norm, X_mean, X_std = normalize(X)\n",
    "Y_norm, Y_mean, Y_std = normalize(Y)\n",
    "print(Y_mean)\n",
    "print(Y_std)"
   ]
  },
  {
   "cell_type": "code",
   "execution_count": 6,
   "metadata": {},
   "outputs": [
    {
     "name": "stdout",
     "output_type": "stream",
     "text": [
      "(2352, 53)\n",
      "(2352, 1)\n",
      "(784, 53)\n",
      "(784, 1)\n"
     ]
    }
   ],
   "source": [
    "X_norm_train, X_norm_test_val, Y_norm_train, Y_norm_test_val = train_test_split(X_norm, Y_norm, test_size=0.4, random_state=1)\n",
    "X_norm_val, X_norm_test, Y_norm_val, Y_norm_test = train_test_split(X_norm_test_val, Y_norm_test_val, test_size=0.5, random_state=1)\n",
    "print(X_norm_train.shape)\n",
    "print(Y_norm_train.shape)\n",
    "print(X_norm_val.shape)\n",
    "print(Y_norm_val.shape)"
   ]
  },
  {
   "cell_type": "code",
   "execution_count": 7,
   "metadata": {
    "collapsed": true
   },
   "outputs": [],
   "source": [
    "def root_mean_sq_error(Y,Y_hat):\n",
    "    return np.sqrt(np.sum((Y - Y_hat) ** 2) / Y.shape[0])\n",
    "\n",
    "def abs_mean_error(Y,Y_hat):\n",
    "    return np.sum(np.abs((Y - Y_hat) / Y)) / Y.shape[0]"
   ]
  },
  {
   "cell_type": "code",
   "execution_count": 8,
   "metadata": {
    "collapsed": true
   },
   "outputs": [],
   "source": [
    "def train_model(model, epochs=1000):\n",
    "    tic = time.time()\n",
    "    hist = model.fit(X_norm_train, Y_norm_train, batch_size=X_norm_train.shape[0], epochs=epochs, shuffle=True, verbose=0)\n",
    "    toc = time.time()\n",
    "    print('Time :' + str(toc - tic))\n",
    "    loss = hist.history['loss']\n",
    "    print('Last loss: ' + str(loss[len(loss)-1]))\n",
    "    plt.plot(loss)\n",
    "    plt.show()"
   ]
  },
  {
   "cell_type": "code",
   "execution_count": 9,
   "metadata": {
    "collapsed": true
   },
   "outputs": [],
   "source": [
    "def model_pred(model):\n",
    "    Y_hat_norm_train = model.predict(X_norm_train)\n",
    "    Y_hat_norm_val = model.predict(X_norm_val)\n",
    "    Y_hat_train = inverse_norm(Y_hat_norm_train,Y_mean,Y_std)\n",
    "    Y_hat_val = inverse_norm(Y_hat_norm_val,Y_mean,Y_std)\n",
    "    Y_train = inverse_norm(Y_norm_train,Y_mean,Y_std)\n",
    "    Y_val = inverse_norm(Y_norm_val,Y_mean,Y_std)\n",
    "    print('Training error 1: ' + str(root_mean_sq_error(Y_hat_train,Y_train)))\n",
    "    print('Prediction error 1: ' + str(root_mean_sq_error(Y_hat_val,Y_val)))\n",
    "    train_error = abs_mean_error(Y_hat_train,Y_train)\n",
    "    test_error = abs_mean_error(Y_hat_val,Y_val)\n",
    "    print('Training error 2: ' + str(train_error))\n",
    "    print('Prediction error 2: ' + str(test_error))\n",
    "    plt.scatter(Y_train, Y_hat_train)\n",
    "    plt.show()\n",
    "    plt.scatter(Y_val, Y_hat_val)\n",
    "    plt.show()"
   ]
  },
  {
   "cell_type": "code",
   "execution_count": 10,
   "metadata": {
    "collapsed": true
   },
   "outputs": [],
   "source": [
    "# Model tuned in ce_deepnn-Copy1\n",
    "lambd = 0.09\n",
    "model_l2_6_layers = models.Sequential()\n",
    "model_l2_6_layers.add(layers.Dense(60, input_dim=53, kernel_regularizer=regularizers.l2(l=lambd), activation='relu'))\n",
    "model_l2_6_layers.add(layers.Dense(40, kernel_regularizer=regularizers.l2(l=lambd),activation='relu'))\n",
    "model_l2_6_layers.add(layers.Dense(30, kernel_regularizer=regularizers.l2(l=lambd),activation='relu'))\n",
    "model_l2_6_layers.add(layers.Dense(20, kernel_regularizer=regularizers.l2(l=lambd),activation='relu'))\n",
    "model_l2_6_layers.add(layers.Dense(10, kernel_regularizer=regularizers.l2(l=lambd),activation='relu'))\n",
    "model_l2_6_layers.add(layers.Dense(1, activation='linear'))\n",
    "model_l2_6_layers.compile(loss=\"mean_squared_error\", optimizer=\"adam\")"
   ]
  },
  {
   "cell_type": "code",
   "execution_count": 11,
   "metadata": {},
   "outputs": [
    {
     "name": "stdout",
     "output_type": "stream",
     "text": [
      "Time :75.8331778049469\n",
      "Last loss: 0.644795417786\n"
     ]
    },
    {
     "data": {
      "image/png": "[encoded data removed]",
      "text/plain": [
       "<matplotlib.figure.Figure at 0x1233b5fb588>"
      ]
     },
     "metadata": {},
     "output_type": "display_data"
    },
    {
     "name": "stdout",
     "output_type": "stream",
     "text": [
      "Training error 1: 421.075167672\n",
      "Prediction error 1: 510.544461904\n",
      "Training error 2: 0.848436931679\n",
      "Prediction error 2: 1.05621217743\n"
     ]
    },
    {
     "data": {
      "image/png": "[encoded data removed]",
      "text/plain": [
       "<matplotlib.figure.Figure at 0x1233bbb1780>"
      ]
     },
     "metadata": {},
     "output_type": "display_data"
    },
    {
     "data": {
      "image/png": "[encoded data removed]",
      "text/plain": [
       "<matplotlib.figure.Figure at 0x1233bc6df98>"
      ]
     },
     "metadata": {},
     "output_type": "display_data"
    }
   ],
   "source": [
    "train_model(model_l2_6_layers, epochs=5000)\n",
    "model_pred(model_l2_6_layers)"
   ]
  },
  {
   "cell_type": "markdown",
   "metadata": {
    "collapsed": true
   },
   "source": [
    "Error is less than one standard deviation, but there is still room to improve.\n",
    "Next step is to try cleaning/imputing data more."
   ]
  },
  {
   "cell_type": "code",
   "execution_count": 14,
   "metadata": {},
   "outputs": [
    {
     "data": {
      "image/png": "[encoded data removed]",
      "text/plain": [
       "<matplotlib.figure.Figure at 0x1233be65860>"
      ]
     },
     "metadata": {},
     "output_type": "display_data"
    }
   ],
   "source": [
    "Y_hat_norm_test = model_l2_6_layers.predict(X_norm_test)\n",
    "Y_hat_test = inverse_norm(Y_hat_norm_test,Y_mean,Y_std)\n",
    "Y_test = inverse_norm(Y_norm_test,Y_mean,Y_std)\n",
    "plt.scatter(Y_test, Y_hat_test)\n",
    "plt.show()"
   ]
  },
  {
   "cell_type": "code",
   "execution_count": 15,
   "metadata": {},
   "outputs": [
    {
     "name": "stdout",
     "output_type": "stream",
     "text": [
      "Prediction error 1: 537.567825941\n",
      "Prediction error 2: 0.973667018928\n"
     ]
    }
   ],
   "source": [
    "print('Prediction error 1: ' + str(root_mean_sq_error(Y_hat_test,Y_test)))\n",
    "print('Prediction error 2: ' + str(abs_mean_error(Y_hat_test,Y_test)))"
   ]
  },
  {
   "cell_type": "code",
   "execution_count": null,
   "metadata": {
    "collapsed": true
   },
   "outputs": [],
   "source": []
  }
 ],
 "metadata": {
  "kernelspec": {
   "display_name": "Python 3",
   "language": "python",
   "name": "python3"
  },
  "language_info": {
   "codemirror_mode": {
    "name": "ipython",
    "version": 3
   },
   "file_extension": ".py",
   "mimetype": "text/x-python",
   "name": "python",
   "nbconvert_exporter": "python",
   "pygments_lexer": "ipython3",
   "version": "3.6.2"
  }
 },
 "nbformat": 4,
 "nbformat_minor": 2
}
